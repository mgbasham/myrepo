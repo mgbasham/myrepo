{
 "cells": [
  {
   "cell_type": "code",
   "execution_count": 1,
   "id": "electoral-blood",
   "metadata": {},
   "outputs": [],
   "source": [
    "# IMPORTANT\n",
    "# Running this chunk lets you have multiple outputs from a single chunk; run it first!\n",
    "from IPython.core.interactiveshell import InteractiveShell\n",
    "InteractiveShell.ast_node_interactivity = \"all\"\n"
   ]
  },
  {
   "cell_type": "code",
   "execution_count": 2,
   "id": "special-petroleum",
   "metadata": {},
   "outputs": [],
   "source": [
    "# Import packages\n",
    "import numpy as np\n",
    "import pandas as pd\n",
    "import seaborn as sns\n",
    "import matplotlib.pyplot as plt\n"
   ]
  },
  {
   "cell_type": "code",
   "execution_count": 20,
   "id": "spectacular-punch",
   "metadata": {},
   "outputs": [],
   "source": [
    "import csv\n",
    "#cost = pd.read_csv(\"C:/Users/mgbas/Documents/Bioinformatics/datasets/tuition_cost.csv\",\"r\")\n",
    "cost = pd.read_csv(r\"C:\\Users\\mgbas\\Documents\\Bioinformatics\\datasets\\tuition_cost.csv\")\n",
    "#loans = panda.read_csv (‘tuition_cost.csv’)\n"
   ]
  },
  {
   "cell_type": "code",
   "execution_count": 21,
   "id": "opening-facial",
   "metadata": {
    "scrolled": true
   },
   "outputs": [
    {
     "data": {
      "text/html": [
       "<div>\n",
       "<style scoped>\n",
       "    .dataframe tbody tr th:only-of-type {\n",
       "        vertical-align: middle;\n",
       "    }\n",
       "\n",
       "    .dataframe tbody tr th {\n",
       "        vertical-align: top;\n",
       "    }\n",
       "\n",
       "    .dataframe thead th {\n",
       "        text-align: right;\n",
       "    }\n",
       "</style>\n",
       "<table border=\"1\" class=\"dataframe\">\n",
       "  <thead>\n",
       "    <tr style=\"text-align: right;\">\n",
       "      <th></th>\n",
       "      <th>name</th>\n",
       "      <th>state</th>\n",
       "      <th>state_code</th>\n",
       "      <th>type</th>\n",
       "      <th>degree_length</th>\n",
       "      <th>room_and_board</th>\n",
       "      <th>in_state_tuition</th>\n",
       "      <th>in_state_total</th>\n",
       "      <th>out_of_state_tuition</th>\n",
       "      <th>out_of_state_total</th>\n",
       "    </tr>\n",
       "  </thead>\n",
       "  <tbody>\n",
       "    <tr>\n",
       "      <th>0</th>\n",
       "      <td>Aaniiih Nakoda College</td>\n",
       "      <td>Montana</td>\n",
       "      <td>MT</td>\n",
       "      <td>Public</td>\n",
       "      <td>2 Year</td>\n",
       "      <td>NaN</td>\n",
       "      <td>2380</td>\n",
       "      <td>2380</td>\n",
       "      <td>2380</td>\n",
       "      <td>2380</td>\n",
       "    </tr>\n",
       "    <tr>\n",
       "      <th>1</th>\n",
       "      <td>Abilene Christian University</td>\n",
       "      <td>Texas</td>\n",
       "      <td>TX</td>\n",
       "      <td>Private</td>\n",
       "      <td>4 Year</td>\n",
       "      <td>10350.0</td>\n",
       "      <td>34850</td>\n",
       "      <td>45200</td>\n",
       "      <td>34850</td>\n",
       "      <td>45200</td>\n",
       "    </tr>\n",
       "    <tr>\n",
       "      <th>2</th>\n",
       "      <td>Abraham Baldwin Agricultural College</td>\n",
       "      <td>Georgia</td>\n",
       "      <td>GA</td>\n",
       "      <td>Public</td>\n",
       "      <td>2 Year</td>\n",
       "      <td>8474.0</td>\n",
       "      <td>4128</td>\n",
       "      <td>12602</td>\n",
       "      <td>12550</td>\n",
       "      <td>21024</td>\n",
       "    </tr>\n",
       "    <tr>\n",
       "      <th>3</th>\n",
       "      <td>Academy College</td>\n",
       "      <td>Minnesota</td>\n",
       "      <td>MN</td>\n",
       "      <td>For Profit</td>\n",
       "      <td>2 Year</td>\n",
       "      <td>NaN</td>\n",
       "      <td>17661</td>\n",
       "      <td>17661</td>\n",
       "      <td>17661</td>\n",
       "      <td>17661</td>\n",
       "    </tr>\n",
       "    <tr>\n",
       "      <th>4</th>\n",
       "      <td>Academy of Art University</td>\n",
       "      <td>California</td>\n",
       "      <td>CA</td>\n",
       "      <td>For Profit</td>\n",
       "      <td>4 Year</td>\n",
       "      <td>16648.0</td>\n",
       "      <td>27810</td>\n",
       "      <td>44458</td>\n",
       "      <td>27810</td>\n",
       "      <td>44458</td>\n",
       "    </tr>\n",
       "    <tr>\n",
       "      <th>...</th>\n",
       "      <td>...</td>\n",
       "      <td>...</td>\n",
       "      <td>...</td>\n",
       "      <td>...</td>\n",
       "      <td>...</td>\n",
       "      <td>...</td>\n",
       "      <td>...</td>\n",
       "      <td>...</td>\n",
       "      <td>...</td>\n",
       "      <td>...</td>\n",
       "    </tr>\n",
       "    <tr>\n",
       "      <th>2968</th>\n",
       "      <td>York Technical College</td>\n",
       "      <td>South Carolina</td>\n",
       "      <td>SC</td>\n",
       "      <td>Public</td>\n",
       "      <td>2 Year</td>\n",
       "      <td>NaN</td>\n",
       "      <td>5740</td>\n",
       "      <td>5740</td>\n",
       "      <td>12190</td>\n",
       "      <td>12190</td>\n",
       "    </tr>\n",
       "    <tr>\n",
       "      <th>2969</th>\n",
       "      <td>Young Harris College</td>\n",
       "      <td>Georgia</td>\n",
       "      <td>GA</td>\n",
       "      <td>Private</td>\n",
       "      <td>4 Year</td>\n",
       "      <td>12372.0</td>\n",
       "      <td>29117</td>\n",
       "      <td>41489</td>\n",
       "      <td>29117</td>\n",
       "      <td>41489</td>\n",
       "    </tr>\n",
       "    <tr>\n",
       "      <th>2970</th>\n",
       "      <td>Youngstown State University</td>\n",
       "      <td>Ohio</td>\n",
       "      <td>OH</td>\n",
       "      <td>Public</td>\n",
       "      <td>4 Year</td>\n",
       "      <td>9400.0</td>\n",
       "      <td>8950</td>\n",
       "      <td>18350</td>\n",
       "      <td>14950</td>\n",
       "      <td>24350</td>\n",
       "    </tr>\n",
       "    <tr>\n",
       "      <th>2971</th>\n",
       "      <td>Yuba College</td>\n",
       "      <td>California</td>\n",
       "      <td>CA</td>\n",
       "      <td>Public</td>\n",
       "      <td>2 Year</td>\n",
       "      <td>NaN</td>\n",
       "      <td>1400</td>\n",
       "      <td>1400</td>\n",
       "      <td>8420</td>\n",
       "      <td>8420</td>\n",
       "    </tr>\n",
       "    <tr>\n",
       "      <th>2972</th>\n",
       "      <td>Zane State College</td>\n",
       "      <td>Ohio</td>\n",
       "      <td>OH</td>\n",
       "      <td>Public</td>\n",
       "      <td>2 Year</td>\n",
       "      <td>NaN</td>\n",
       "      <td>5070</td>\n",
       "      <td>5070</td>\n",
       "      <td>9930</td>\n",
       "      <td>9930</td>\n",
       "    </tr>\n",
       "  </tbody>\n",
       "</table>\n",
       "<p>2973 rows × 10 columns</p>\n",
       "</div>"
      ],
      "text/plain": [
       "                                      name           state state_code  \\\n",
       "0                   Aaniiih Nakoda College         Montana         MT   \n",
       "1             Abilene Christian University           Texas         TX   \n",
       "2     Abraham Baldwin Agricultural College         Georgia         GA   \n",
       "3                          Academy College       Minnesota         MN   \n",
       "4                Academy of Art University      California         CA   \n",
       "...                                    ...             ...        ...   \n",
       "2968                York Technical College  South Carolina         SC   \n",
       "2969                  Young Harris College         Georgia         GA   \n",
       "2970           Youngstown State University            Ohio         OH   \n",
       "2971                          Yuba College      California         CA   \n",
       "2972                    Zane State College            Ohio         OH   \n",
       "\n",
       "            type degree_length  room_and_board  in_state_tuition  \\\n",
       "0         Public        2 Year             NaN              2380   \n",
       "1        Private        4 Year         10350.0             34850   \n",
       "2         Public        2 Year          8474.0              4128   \n",
       "3     For Profit        2 Year             NaN             17661   \n",
       "4     For Profit        4 Year         16648.0             27810   \n",
       "...          ...           ...             ...               ...   \n",
       "2968      Public        2 Year             NaN              5740   \n",
       "2969     Private        4 Year         12372.0             29117   \n",
       "2970      Public        4 Year          9400.0              8950   \n",
       "2971      Public        2 Year             NaN              1400   \n",
       "2972      Public        2 Year             NaN              5070   \n",
       "\n",
       "      in_state_total  out_of_state_tuition  out_of_state_total  \n",
       "0               2380                  2380                2380  \n",
       "1              45200                 34850               45200  \n",
       "2              12602                 12550               21024  \n",
       "3              17661                 17661               17661  \n",
       "4              44458                 27810               44458  \n",
       "...              ...                   ...                 ...  \n",
       "2968            5740                 12190               12190  \n",
       "2969           41489                 29117               41489  \n",
       "2970           18350                 14950               24350  \n",
       "2971            1400                  8420                8420  \n",
       "2972            5070                  9930                9930  \n",
       "\n",
       "[2973 rows x 10 columns]"
      ]
     },
     "execution_count": 21,
     "metadata": {},
     "output_type": "execute_result"
    }
   ],
   "source": [
    "cost\n"
   ]
  },
  {
   "cell_type": "code",
   "execution_count": null,
   "id": "accessible-morgan",
   "metadata": {},
   "outputs": [],
   "source": [
    "This data set contains the tuition costs in the USA. we have cost(in state and out of state) as numerical variable and type (Private or Public) as cateforical variables."
   ]
  },
  {
   "cell_type": "code",
   "execution_count": null,
   "id": "fifth-basic",
   "metadata": {},
   "outputs": [],
   "source": []
  },
  {
   "cell_type": "code",
   "execution_count": 22,
   "id": "north-gentleman",
   "metadata": {},
   "outputs": [
    {
     "data": {
      "text/html": [
       "<div>\n",
       "<style scoped>\n",
       "    .dataframe tbody tr th:only-of-type {\n",
       "        vertical-align: middle;\n",
       "    }\n",
       "\n",
       "    .dataframe tbody tr th {\n",
       "        vertical-align: top;\n",
       "    }\n",
       "\n",
       "    .dataframe thead th {\n",
       "        text-align: right;\n",
       "    }\n",
       "</style>\n",
       "<table border=\"1\" class=\"dataframe\">\n",
       "  <thead>\n",
       "    <tr style=\"text-align: right;\">\n",
       "      <th></th>\n",
       "      <th>name</th>\n",
       "      <th>state</th>\n",
       "      <th>state_code</th>\n",
       "      <th>type</th>\n",
       "      <th>degree_length</th>\n",
       "      <th>room_and_board</th>\n",
       "      <th>in_state_tuition</th>\n",
       "      <th>in_state_total</th>\n",
       "      <th>out_of_state_tuition</th>\n",
       "      <th>out_of_state_total</th>\n",
       "    </tr>\n",
       "  </thead>\n",
       "  <tbody>\n",
       "    <tr>\n",
       "      <th>1</th>\n",
       "      <td>Abilene Christian University</td>\n",
       "      <td>Texas</td>\n",
       "      <td>TX</td>\n",
       "      <td>Private</td>\n",
       "      <td>4 Year</td>\n",
       "      <td>10350.0</td>\n",
       "      <td>34850</td>\n",
       "      <td>45200</td>\n",
       "      <td>34850</td>\n",
       "      <td>45200</td>\n",
       "    </tr>\n",
       "    <tr>\n",
       "      <th>2</th>\n",
       "      <td>Abraham Baldwin Agricultural College</td>\n",
       "      <td>Georgia</td>\n",
       "      <td>GA</td>\n",
       "      <td>Public</td>\n",
       "      <td>2 Year</td>\n",
       "      <td>8474.0</td>\n",
       "      <td>4128</td>\n",
       "      <td>12602</td>\n",
       "      <td>12550</td>\n",
       "      <td>21024</td>\n",
       "    </tr>\n",
       "    <tr>\n",
       "      <th>4</th>\n",
       "      <td>Academy of Art University</td>\n",
       "      <td>California</td>\n",
       "      <td>CA</td>\n",
       "      <td>For Profit</td>\n",
       "      <td>4 Year</td>\n",
       "      <td>16648.0</td>\n",
       "      <td>27810</td>\n",
       "      <td>44458</td>\n",
       "      <td>27810</td>\n",
       "      <td>44458</td>\n",
       "    </tr>\n",
       "    <tr>\n",
       "      <th>5</th>\n",
       "      <td>Adams State University</td>\n",
       "      <td>Colorado</td>\n",
       "      <td>CO</td>\n",
       "      <td>Public</td>\n",
       "      <td>4 Year</td>\n",
       "      <td>8782.0</td>\n",
       "      <td>9440</td>\n",
       "      <td>18222</td>\n",
       "      <td>20456</td>\n",
       "      <td>29238</td>\n",
       "    </tr>\n",
       "    <tr>\n",
       "      <th>6</th>\n",
       "      <td>Adelphi University</td>\n",
       "      <td>New York</td>\n",
       "      <td>NY</td>\n",
       "      <td>Private</td>\n",
       "      <td>4 Year</td>\n",
       "      <td>16030.0</td>\n",
       "      <td>38660</td>\n",
       "      <td>54690</td>\n",
       "      <td>38660</td>\n",
       "      <td>54690</td>\n",
       "    </tr>\n",
       "    <tr>\n",
       "      <th>...</th>\n",
       "      <td>...</td>\n",
       "      <td>...</td>\n",
       "      <td>...</td>\n",
       "      <td>...</td>\n",
       "      <td>...</td>\n",
       "      <td>...</td>\n",
       "      <td>...</td>\n",
       "      <td>...</td>\n",
       "      <td>...</td>\n",
       "      <td>...</td>\n",
       "    </tr>\n",
       "    <tr>\n",
       "      <th>2964</th>\n",
       "      <td>Yeshivath Viznitz</td>\n",
       "      <td>New York</td>\n",
       "      <td>NY</td>\n",
       "      <td>Private</td>\n",
       "      <td>4 Year</td>\n",
       "      <td>4050.0</td>\n",
       "      <td>10000</td>\n",
       "      <td>14050</td>\n",
       "      <td>10000</td>\n",
       "      <td>14050</td>\n",
       "    </tr>\n",
       "    <tr>\n",
       "      <th>2965</th>\n",
       "      <td>York College</td>\n",
       "      <td>Nebraska</td>\n",
       "      <td>NE</td>\n",
       "      <td>Private</td>\n",
       "      <td>4 Year</td>\n",
       "      <td>7220.0</td>\n",
       "      <td>19310</td>\n",
       "      <td>26530</td>\n",
       "      <td>19310</td>\n",
       "      <td>26530</td>\n",
       "    </tr>\n",
       "    <tr>\n",
       "      <th>2966</th>\n",
       "      <td>York College of Pennsylvania</td>\n",
       "      <td>Pennsylvania</td>\n",
       "      <td>PA</td>\n",
       "      <td>Private</td>\n",
       "      <td>4 Year</td>\n",
       "      <td>11200.0</td>\n",
       "      <td>20100</td>\n",
       "      <td>31300</td>\n",
       "      <td>20100</td>\n",
       "      <td>31300</td>\n",
       "    </tr>\n",
       "    <tr>\n",
       "      <th>2969</th>\n",
       "      <td>Young Harris College</td>\n",
       "      <td>Georgia</td>\n",
       "      <td>GA</td>\n",
       "      <td>Private</td>\n",
       "      <td>4 Year</td>\n",
       "      <td>12372.0</td>\n",
       "      <td>29117</td>\n",
       "      <td>41489</td>\n",
       "      <td>29117</td>\n",
       "      <td>41489</td>\n",
       "    </tr>\n",
       "    <tr>\n",
       "      <th>2970</th>\n",
       "      <td>Youngstown State University</td>\n",
       "      <td>Ohio</td>\n",
       "      <td>OH</td>\n",
       "      <td>Public</td>\n",
       "      <td>4 Year</td>\n",
       "      <td>9400.0</td>\n",
       "      <td>8950</td>\n",
       "      <td>18350</td>\n",
       "      <td>14950</td>\n",
       "      <td>24350</td>\n",
       "    </tr>\n",
       "  </tbody>\n",
       "</table>\n",
       "<p>1861 rows × 10 columns</p>\n",
       "</div>"
      ],
      "text/plain": [
       "                                      name         state state_code  \\\n",
       "1             Abilene Christian University         Texas         TX   \n",
       "2     Abraham Baldwin Agricultural College       Georgia         GA   \n",
       "4                Academy of Art University    California         CA   \n",
       "5                   Adams State University      Colorado         CO   \n",
       "6                       Adelphi University      New York         NY   \n",
       "...                                    ...           ...        ...   \n",
       "2964                     Yeshivath Viznitz      New York         NY   \n",
       "2965                          York College      Nebraska         NE   \n",
       "2966          York College of Pennsylvania  Pennsylvania         PA   \n",
       "2969                  Young Harris College       Georgia         GA   \n",
       "2970           Youngstown State University          Ohio         OH   \n",
       "\n",
       "            type degree_length  room_and_board  in_state_tuition  \\\n",
       "1        Private        4 Year         10350.0             34850   \n",
       "2         Public        2 Year          8474.0              4128   \n",
       "4     For Profit        4 Year         16648.0             27810   \n",
       "5         Public        4 Year          8782.0              9440   \n",
       "6        Private        4 Year         16030.0             38660   \n",
       "...          ...           ...             ...               ...   \n",
       "2964     Private        4 Year          4050.0             10000   \n",
       "2965     Private        4 Year          7220.0             19310   \n",
       "2966     Private        4 Year         11200.0             20100   \n",
       "2969     Private        4 Year         12372.0             29117   \n",
       "2970      Public        4 Year          9400.0              8950   \n",
       "\n",
       "      in_state_total  out_of_state_tuition  out_of_state_total  \n",
       "1              45200                 34850               45200  \n",
       "2              12602                 12550               21024  \n",
       "4              44458                 27810               44458  \n",
       "5              18222                 20456               29238  \n",
       "6              54690                 38660               54690  \n",
       "...              ...                   ...                 ...  \n",
       "2964           14050                 10000               14050  \n",
       "2965           26530                 19310               26530  \n",
       "2966           31300                 20100               31300  \n",
       "2969           41489                 29117               41489  \n",
       "2970           18350                 14950               24350  \n",
       "\n",
       "[1861 rows x 10 columns]"
      ]
     },
     "execution_count": 22,
     "metadata": {},
     "output_type": "execute_result"
    }
   ],
   "source": [
    "# Drop missing data\n",
    "cost.dropna()"
   ]
  },
  {
   "cell_type": "code",
   "execution_count": 23,
   "id": "bearing-petroleum",
   "metadata": {},
   "outputs": [
    {
     "data": {
      "text/plain": [
       "<bound method DataFrame.info of                                       name           state state_code  \\\n",
       "0                   Aaniiih Nakoda College         Montana         MT   \n",
       "1             Abilene Christian University           Texas         TX   \n",
       "2     Abraham Baldwin Agricultural College         Georgia         GA   \n",
       "3                          Academy College       Minnesota         MN   \n",
       "4                Academy of Art University      California         CA   \n",
       "...                                    ...             ...        ...   \n",
       "2968                York Technical College  South Carolina         SC   \n",
       "2969                  Young Harris College         Georgia         GA   \n",
       "2970           Youngstown State University            Ohio         OH   \n",
       "2971                          Yuba College      California         CA   \n",
       "2972                    Zane State College            Ohio         OH   \n",
       "\n",
       "            type degree_length  room_and_board  in_state_tuition  \\\n",
       "0         Public        2 Year             NaN              2380   \n",
       "1        Private        4 Year         10350.0             34850   \n",
       "2         Public        2 Year          8474.0              4128   \n",
       "3     For Profit        2 Year             NaN             17661   \n",
       "4     For Profit        4 Year         16648.0             27810   \n",
       "...          ...           ...             ...               ...   \n",
       "2968      Public        2 Year             NaN              5740   \n",
       "2969     Private        4 Year         12372.0             29117   \n",
       "2970      Public        4 Year          9400.0              8950   \n",
       "2971      Public        2 Year             NaN              1400   \n",
       "2972      Public        2 Year             NaN              5070   \n",
       "\n",
       "      in_state_total  out_of_state_tuition  out_of_state_total  \n",
       "0               2380                  2380                2380  \n",
       "1              45200                 34850               45200  \n",
       "2              12602                 12550               21024  \n",
       "3              17661                 17661               17661  \n",
       "4              44458                 27810               44458  \n",
       "...              ...                   ...                 ...  \n",
       "2968            5740                 12190               12190  \n",
       "2969           41489                 29117               41489  \n",
       "2970           18350                 14950               24350  \n",
       "2971            1400                  8420                8420  \n",
       "2972            5070                  9930                9930  \n",
       "\n",
       "[2973 rows x 10 columns]>"
      ]
     },
     "execution_count": 23,
     "metadata": {},
     "output_type": "execute_result"
    }
   ],
   "source": [
    "cost.info"
   ]
  },
  {
   "cell_type": "code",
   "execution_count": 24,
   "id": "monthly-tuesday",
   "metadata": {},
   "outputs": [
    {
     "data": {
      "text/plain": [
       "480"
      ]
     },
     "execution_count": 24,
     "metadata": {},
     "output_type": "execute_result"
    },
    {
     "data": {
      "text/plain": [
       "26826"
      ]
     },
     "execution_count": 24,
     "metadata": {},
     "output_type": "execute_result"
    }
   ],
   "source": [
    "cost.loc[cost['type'] == \"Public\", 'in_state_tuition'].min()\n",
    "cost.loc[cost['type'] == \"Public\", 'in_state_tuition'].max()"
   ]
  },
  {
   "cell_type": "code",
   "execution_count": 25,
   "id": "central-times",
   "metadata": {},
   "outputs": [
    {
     "data": {
      "text/plain": [
       "958"
      ]
     },
     "execution_count": 25,
     "metadata": {},
     "output_type": "execute_result"
    },
    {
     "data": {
      "text/plain": [
       "59985"
      ]
     },
     "execution_count": 25,
     "metadata": {},
     "output_type": "execute_result"
    }
   ],
   "source": [
    "cost.loc[cost['type'] == \"Private\", 'in_state_tuition'].min()\n",
    "cost.loc[cost['type'] == \"Private\", 'in_state_tuition'].max()"
   ]
  },
  {
   "cell_type": "code",
   "execution_count": 26,
   "id": "minute-architecture",
   "metadata": {},
   "outputs": [
    {
     "data": {
      "text/plain": [
       "<AxesSubplot:ylabel='Frequency'>"
      ]
     },
     "execution_count": 26,
     "metadata": {},
     "output_type": "execute_result"
    },
    {
     "data": {
      "text/plain": [
       "Text(0.5, 0, 'In State Cost of Tuition')"
      ]
     },
     "execution_count": 26,
     "metadata": {},
     "output_type": "execute_result"
    },
    {
     "data": {
      "image/png": "[encoded data removed]",
      "text/plain": [
       "<Figure size 432x288 with 1 Axes>"
      ]
     },
     "metadata": {
      "needs_background": "light"
     },
     "output_type": "display_data"
    }
   ],
   "source": [
    "# Create a histogram\n",
    "cost['in_state_tuition'].plot(kind = \"hist\")\n",
    "plt.xlabel('In State Cost of Tuition') # add a label"
   ]
  },
  {
   "cell_type": "code",
   "execution_count": 28,
   "id": "australian-blackjack",
   "metadata": {},
   "outputs": [
    {
     "data": {
      "text/plain": [
       "<AxesSubplot:ylabel='Frequency'>"
      ]
     },
     "execution_count": 28,
     "metadata": {},
     "output_type": "execute_result"
    },
    {
     "data": {
      "text/plain": [
       "Text(0.5, 0, 'Out Of State Tuition')"
      ]
     },
     "execution_count": 28,
     "metadata": {},
     "output_type": "execute_result"
    },
    {
     "data": {
      "image/png": "[encoded data removed]",
      "text/plain": [
       "<Figure size 432x288 with 1 Axes>"
      ]
     },
     "metadata": {
      "needs_background": "light"
     },
     "output_type": "display_data"
    }
   ],
   "source": [
    "# Create a histogram\n",
    "cost['out_of_state_tuition'].plot(kind = \"hist\")\n",
    "plt.xlabel('Out Of State Tuition') # add a label"
   ]
  },
  {
   "cell_type": "code",
   "execution_count": 29,
   "id": "collectible-large",
   "metadata": {},
   "outputs": [
    {
     "data": {
      "text/plain": [
       "<AxesSubplot:>"
      ]
     },
     "execution_count": 29,
     "metadata": {},
     "output_type": "execute_result"
    },
    {
     "data": {
      "image/png": "[encoded data removed]",
      "text/plain": [
       "<Figure size 432x288 with 1 Axes>"
      ]
     },
     "metadata": {
      "needs_background": "light"
     },
     "output_type": "display_data"
    }
   ],
   "source": [
    "cost['in_state_tuition'].plot(kind = \"box\")"
   ]
  },
  {
   "cell_type": "code",
   "execution_count": 30,
   "id": "cubic-surprise",
   "metadata": {},
   "outputs": [
    {
     "data": {
      "text/plain": [
       "<AxesSubplot:>"
      ]
     },
     "execution_count": 30,
     "metadata": {},
     "output_type": "execute_result"
    },
    {
     "data": {
      "image/png": "[encoded data removed]",
      "text/plain": [
       "<Figure size 432x288 with 1 Axes>"
      ]
     },
     "metadata": {
      "needs_background": "light"
     },
     "output_type": "display_data"
    }
   ],
   "source": [
    "cost['out_of_state_tuition'].plot(kind = \"box\")"
   ]
  },
  {
   "cell_type": "code",
   "execution_count": null,
   "id": "third-chassis",
   "metadata": {},
   "outputs": [],
   "source": [
    "The box plot distribution of out of state tuition shows that the cost is approximately equally distributed among states but its obvious that the distribution fail the equal variance assumption."
   ]
  },
  {
   "cell_type": "code",
   "execution_count": 31,
   "id": "ambient-phenomenon",
   "metadata": {},
   "outputs": [
    {
     "data": {
      "text/html": [
       "<div>\n",
       "<style scoped>\n",
       "    .dataframe tbody tr th:only-of-type {\n",
       "        vertical-align: middle;\n",
       "    }\n",
       "\n",
       "    .dataframe tbody tr th {\n",
       "        vertical-align: top;\n",
       "    }\n",
       "\n",
       "    .dataframe thead th {\n",
       "        text-align: right;\n",
       "    }\n",
       "</style>\n",
       "<table border=\"1\" class=\"dataframe\">\n",
       "  <thead>\n",
       "    <tr style=\"text-align: right;\">\n",
       "      <th></th>\n",
       "      <th>in_state_tuition</th>\n",
       "    </tr>\n",
       "  </thead>\n",
       "  <tbody>\n",
       "    <tr>\n",
       "      <th>mean</th>\n",
       "      <td>6037.799242</td>\n",
       "    </tr>\n",
       "    <tr>\n",
       "      <th>std</th>\n",
       "      <td>3562.718059</td>\n",
       "    </tr>\n",
       "  </tbody>\n",
       "</table>\n",
       "</div>"
      ],
      "text/plain": [
       "      in_state_tuition\n",
       "mean       6037.799242\n",
       "std        3562.718059"
      ]
     },
     "execution_count": 31,
     "metadata": {},
     "output_type": "execute_result"
    }
   ],
   "source": [
    "# Select variables (with `filter`), filter only one color (with `query`) and calculate statistics (end each function with \\)\n",
    "cost.filter(['type', 'in_state_tuition']) \\\n",
    ".query('type == \"Public\"') \\\n",
    ".agg(['mean', 'std'])"
   ]
  },
  {
   "cell_type": "code",
   "execution_count": 32,
   "id": "statutory-sister",
   "metadata": {},
   "outputs": [
    {
     "data": {
      "text/html": [
       "<div>\n",
       "<style scoped>\n",
       "    .dataframe tbody tr th:only-of-type {\n",
       "        vertical-align: middle;\n",
       "    }\n",
       "\n",
       "    .dataframe tbody tr th {\n",
       "        vertical-align: top;\n",
       "    }\n",
       "\n",
       "    .dataframe thead th {\n",
       "        text-align: right;\n",
       "    }\n",
       "</style>\n",
       "<table border=\"1\" class=\"dataframe\">\n",
       "  <thead>\n",
       "    <tr style=\"text-align: right;\">\n",
       "      <th></th>\n",
       "      <th>in_state_tuition</th>\n",
       "    </tr>\n",
       "  </thead>\n",
       "  <tbody>\n",
       "    <tr>\n",
       "      <th>mean</th>\n",
       "      <td>29432.435597</td>\n",
       "    </tr>\n",
       "    <tr>\n",
       "      <th>std</th>\n",
       "      <td>13541.888292</td>\n",
       "    </tr>\n",
       "  </tbody>\n",
       "</table>\n",
       "</div>"
      ],
      "text/plain": [
       "      in_state_tuition\n",
       "mean      29432.435597\n",
       "std       13541.888292"
      ]
     },
     "execution_count": 32,
     "metadata": {},
     "output_type": "execute_result"
    }
   ],
   "source": [
    "cost.filter(['type', 'in_state_tuition']) \\\n",
    ".query('type == \"Private\"') \\\n",
    ".agg(['mean', 'std'])"
   ]
  },
  {
   "cell_type": "code",
   "execution_count": null,
   "id": "verified-rocket",
   "metadata": {},
   "outputs": [],
   "source": [
    "The summary statistics for Public tuition cost in state we have a mean cost of $6037.8 and a standard deviation of 3562.72.The summary statistics for tuition cost in state we have a mean cost of $6037.8 and a standard deviation of 3562.72.\n",
    "The summary statistics for Private tuition cost in state we have a mean cost of $29432.45 and a standard deviation of 13541.9."
   ]
  }
 ],
 "metadata": {
  "kernelspec": {
   "display_name": "Python 3",
   "language": "python",
   "name": "python3"
  },
  "language_info": {
   "codemirror_mode": {
    "name": "ipython",
    "version": 3
   },
   "file_extension": ".py",
   "mimetype": "text/x-python",
   "name": "python",
   "nbconvert_exporter": "python",
   "pygments_lexer": "ipython3",
   "version": "3.6.8"
  }
 },
 "nbformat": 4,
 "nbformat_minor": 5
}
